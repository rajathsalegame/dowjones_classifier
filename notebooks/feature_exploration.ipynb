{
 "cells": [
  {
   "cell_type": "markdown",
   "metadata": {},
   "source": [
    "### Exploring Non-Gaussianity and Feature Normalization "
   ]
  },
  {
   "cell_type": "code",
   "execution_count": 1,
   "metadata": {},
   "outputs": [],
   "source": [
    "from data import Portfolio, Dataset\n",
    "import yfinance as yf\n",
    "import matplotlib.pyplot as plt\n",
    "import pandas as pd"
   ]
  },
  {
   "cell_type": "markdown",
   "metadata": {},
   "source": [
    "We again start by instantiating our Portfolio object. We are simply interested in a single feature, so we use our favorite technology stock, AAPL."
   ]
  },
  {
   "cell_type": "code",
   "execution_count": 2,
   "metadata": {},
   "outputs": [],
   "source": [
    "# define stock list of portfolio (just AAPL in this case)\n",
    "stock_list = ['AAPL']\n",
    "\n",
    "# define desired start and end dates\n",
    "start = '1990-01-01'\n",
    "end = '2020-01-01'\n",
    "\n",
    "# construct pandas dataframe of portfolio returns to instantiate Portfolio object \n",
    "# (in this case from yfinance)\n",
    "returns = yf.Ticker('^DJI').history(start=start,end=end)\n",
    "\n",
    "# construct Portfolio object implemented in data.py\n",
    "dji = Portfolio('^DJI', stock_list, returns, start=start,end=end)"
   ]
  },
  {
   "cell_type": "markdown",
   "metadata": {},
   "source": [
    "We next define our features using our stocks and periods, the target, the forward return horizon, target name, and task type (regression or classification)"
   ]
  },
  {
   "cell_type": "code",
   "execution_count": 7,
   "metadata": {},
   "outputs": [],
   "source": [
    "# define feature names, target name, periods\n",
    "feature_names = stock_list\n",
    "target_name = 'returns'\n",
    "periods = list(range(1,21)) + list(range(40,260,20))\n",
    "horizon = 5\n",
    "\n",
    "params = {'pfolio_obj': dji, \n",
    "          'data_type': 'Close', \n",
    "          'feature_names': stock_list, \n",
    "          'periods': periods, \n",
    "          'horizon': horizon, \n",
    "          'target_name': 'returns', \n",
    "          'task_type': 'classification'}\n",
    "\n",
    "# instantiate data object \n",
    "dji_data = Dataset(**params)"
   ]
  },
  {
   "cell_type": "code",
   "execution_count": 11,
   "metadata": {},
   "outputs": [
    {
     "data": {
      "text/html": [
       "<div>\n",
       "<style scoped>\n",
       "    .dataframe tbody tr th:only-of-type {\n",
       "        vertical-align: middle;\n",
       "    }\n",
       "\n",
       "    .dataframe tbody tr th {\n",
       "        vertical-align: top;\n",
       "    }\n",
       "\n",
       "    .dataframe thead th {\n",
       "        text-align: right;\n",
       "    }\n",
       "</style>\n",
       "<table border=\"1\" class=\"dataframe\">\n",
       "  <thead>\n",
       "    <tr style=\"text-align: right;\">\n",
       "      <th></th>\n",
       "      <th>(AAPL, 1)</th>\n",
       "      <th>(AAPL, 2)</th>\n",
       "      <th>(AAPL, 3)</th>\n",
       "      <th>(AAPL, 4)</th>\n",
       "      <th>(AAPL, 5)</th>\n",
       "      <th>(AAPL, 6)</th>\n",
       "      <th>(AAPL, 7)</th>\n",
       "      <th>(AAPL, 8)</th>\n",
       "      <th>(AAPL, 9)</th>\n",
       "      <th>(AAPL, 10)</th>\n",
       "      <th>...</th>\n",
       "      <th>(AAPL, 80)</th>\n",
       "      <th>(AAPL, 100)</th>\n",
       "      <th>(AAPL, 120)</th>\n",
       "      <th>(AAPL, 140)</th>\n",
       "      <th>(AAPL, 160)</th>\n",
       "      <th>(AAPL, 180)</th>\n",
       "      <th>(AAPL, 200)</th>\n",
       "      <th>(AAPL, 220)</th>\n",
       "      <th>(AAPL, 240)</th>\n",
       "      <th>returns</th>\n",
       "    </tr>\n",
       "    <tr>\n",
       "      <th>Date</th>\n",
       "      <th></th>\n",
       "      <th></th>\n",
       "      <th></th>\n",
       "      <th></th>\n",
       "      <th></th>\n",
       "      <th></th>\n",
       "      <th></th>\n",
       "      <th></th>\n",
       "      <th></th>\n",
       "      <th></th>\n",
       "      <th></th>\n",
       "      <th></th>\n",
       "      <th></th>\n",
       "      <th></th>\n",
       "      <th></th>\n",
       "      <th></th>\n",
       "      <th></th>\n",
       "      <th></th>\n",
       "      <th></th>\n",
       "      <th></th>\n",
       "      <th></th>\n",
       "    </tr>\n",
       "  </thead>\n",
       "  <tbody>\n",
       "    <tr>\n",
       "      <th>1990-12-13</th>\n",
       "      <td>0.025862</td>\n",
       "      <td>0.017094</td>\n",
       "      <td>-0.024590</td>\n",
       "      <td>-0.040323</td>\n",
       "      <td>-0.016529</td>\n",
       "      <td>0.017094</td>\n",
       "      <td>0.053097</td>\n",
       "      <td>0.072072</td>\n",
       "      <td>0.112150</td>\n",
       "      <td>0.112150</td>\n",
       "      <td>...</td>\n",
       "      <td>0.122642</td>\n",
       "      <td>-0.024590</td>\n",
       "      <td>-0.008333</td>\n",
       "      <td>0.025862</td>\n",
       "      <td>0.053097</td>\n",
       "      <td>0.000000</td>\n",
       "      <td>0.202020</td>\n",
       "      <td>0.214286</td>\n",
       "      <td>0.101852</td>\n",
       "      <td>1.0</td>\n",
       "    </tr>\n",
       "    <tr>\n",
       "      <th>1990-12-14</th>\n",
       "      <td>-0.016807</td>\n",
       "      <td>0.008621</td>\n",
       "      <td>0.000000</td>\n",
       "      <td>-0.040984</td>\n",
       "      <td>-0.056452</td>\n",
       "      <td>-0.033058</td>\n",
       "      <td>0.000000</td>\n",
       "      <td>0.035398</td>\n",
       "      <td>0.054054</td>\n",
       "      <td>0.093458</td>\n",
       "      <td>...</td>\n",
       "      <td>0.147059</td>\n",
       "      <td>-0.048780</td>\n",
       "      <td>-0.008475</td>\n",
       "      <td>-0.016807</td>\n",
       "      <td>0.026316</td>\n",
       "      <td>0.000000</td>\n",
       "      <td>0.193878</td>\n",
       "      <td>0.206186</td>\n",
       "      <td>0.073394</td>\n",
       "      <td>1.0</td>\n",
       "    </tr>\n",
       "    <tr>\n",
       "      <th>1990-12-17</th>\n",
       "      <td>0.000000</td>\n",
       "      <td>-0.016807</td>\n",
       "      <td>0.008621</td>\n",
       "      <td>0.000000</td>\n",
       "      <td>-0.040984</td>\n",
       "      <td>-0.056452</td>\n",
       "      <td>-0.033058</td>\n",
       "      <td>0.000000</td>\n",
       "      <td>0.035398</td>\n",
       "      <td>0.054054</td>\n",
       "      <td>...</td>\n",
       "      <td>0.158416</td>\n",
       "      <td>-0.025000</td>\n",
       "      <td>-0.033058</td>\n",
       "      <td>-0.025000</td>\n",
       "      <td>0.017391</td>\n",
       "      <td>0.000000</td>\n",
       "      <td>0.170000</td>\n",
       "      <td>0.181818</td>\n",
       "      <td>0.073394</td>\n",
       "      <td>1.0</td>\n",
       "    </tr>\n",
       "    <tr>\n",
       "      <th>1990-12-18</th>\n",
       "      <td>0.059829</td>\n",
       "      <td>0.059829</td>\n",
       "      <td>0.042017</td>\n",
       "      <td>0.068966</td>\n",
       "      <td>0.059829</td>\n",
       "      <td>0.016393</td>\n",
       "      <td>0.000000</td>\n",
       "      <td>0.024793</td>\n",
       "      <td>0.059829</td>\n",
       "      <td>0.097345</td>\n",
       "      <td>...</td>\n",
       "      <td>0.203883</td>\n",
       "      <td>0.033333</td>\n",
       "      <td>-0.008000</td>\n",
       "      <td>0.033333</td>\n",
       "      <td>0.078261</td>\n",
       "      <td>0.024793</td>\n",
       "      <td>0.215686</td>\n",
       "      <td>0.227723</td>\n",
       "      <td>0.127273</td>\n",
       "      <td>1.0</td>\n",
       "    </tr>\n",
       "    <tr>\n",
       "      <th>1990-12-19</th>\n",
       "      <td>-0.016129</td>\n",
       "      <td>0.042735</td>\n",
       "      <td>0.042735</td>\n",
       "      <td>0.025210</td>\n",
       "      <td>0.051724</td>\n",
       "      <td>0.042735</td>\n",
       "      <td>0.000000</td>\n",
       "      <td>-0.016129</td>\n",
       "      <td>0.008264</td>\n",
       "      <td>0.042735</td>\n",
       "      <td>...</td>\n",
       "      <td>0.109091</td>\n",
       "      <td>-0.008130</td>\n",
       "      <td>-0.061538</td>\n",
       "      <td>0.033898</td>\n",
       "      <td>0.051724</td>\n",
       "      <td>0.016667</td>\n",
       "      <td>0.184466</td>\n",
       "      <td>0.220000</td>\n",
       "      <td>0.119266</td>\n",
       "      <td>0.0</td>\n",
       "    </tr>\n",
       "  </tbody>\n",
       "</table>\n",
       "<p>5 rows × 32 columns</p>\n",
       "</div>"
      ],
      "text/plain": [
       "            (AAPL, 1)  (AAPL, 2)  (AAPL, 3)  (AAPL, 4)  (AAPL, 5)  (AAPL, 6)  \\\n",
       "Date                                                                           \n",
       "1990-12-13   0.025862   0.017094  -0.024590  -0.040323  -0.016529   0.017094   \n",
       "1990-12-14  -0.016807   0.008621   0.000000  -0.040984  -0.056452  -0.033058   \n",
       "1990-12-17   0.000000  -0.016807   0.008621   0.000000  -0.040984  -0.056452   \n",
       "1990-12-18   0.059829   0.059829   0.042017   0.068966   0.059829   0.016393   \n",
       "1990-12-19  -0.016129   0.042735   0.042735   0.025210   0.051724   0.042735   \n",
       "\n",
       "            (AAPL, 7)  (AAPL, 8)  (AAPL, 9)  (AAPL, 10)  ...  (AAPL, 80)  \\\n",
       "Date                                                     ...               \n",
       "1990-12-13   0.053097   0.072072   0.112150    0.112150  ...    0.122642   \n",
       "1990-12-14   0.000000   0.035398   0.054054    0.093458  ...    0.147059   \n",
       "1990-12-17  -0.033058   0.000000   0.035398    0.054054  ...    0.158416   \n",
       "1990-12-18   0.000000   0.024793   0.059829    0.097345  ...    0.203883   \n",
       "1990-12-19   0.000000  -0.016129   0.008264    0.042735  ...    0.109091   \n",
       "\n",
       "            (AAPL, 100)  (AAPL, 120)  (AAPL, 140)  (AAPL, 160)  (AAPL, 180)  \\\n",
       "Date                                                                          \n",
       "1990-12-13    -0.024590    -0.008333     0.025862     0.053097     0.000000   \n",
       "1990-12-14    -0.048780    -0.008475    -0.016807     0.026316     0.000000   \n",
       "1990-12-17    -0.025000    -0.033058    -0.025000     0.017391     0.000000   \n",
       "1990-12-18     0.033333    -0.008000     0.033333     0.078261     0.024793   \n",
       "1990-12-19    -0.008130    -0.061538     0.033898     0.051724     0.016667   \n",
       "\n",
       "            (AAPL, 200)  (AAPL, 220)  (AAPL, 240)  returns  \n",
       "Date                                                        \n",
       "1990-12-13     0.202020     0.214286     0.101852      1.0  \n",
       "1990-12-14     0.193878     0.206186     0.073394      1.0  \n",
       "1990-12-17     0.170000     0.181818     0.073394      1.0  \n",
       "1990-12-18     0.215686     0.227723     0.127273      1.0  \n",
       "1990-12-19     0.184466     0.220000     0.119266      0.0  \n",
       "\n",
       "[5 rows x 32 columns]"
      ]
     },
     "metadata": {},
     "output_type": "display_data"
    }
   ],
   "source": [
    "display(dji_data.df.head())"
   ]
  },
  {
   "cell_type": "markdown",
   "metadata": {},
   "source": [
    "For the purposes of our exploration, we only hone in on one feature: WLOG, let us select the 10-day \"backward returns\" for AAPL."
   ]
  },
  {
   "cell_type": "code",
   "execution_count": 16,
   "metadata": {},
   "outputs": [],
   "source": [
    "feature = dji_data.df[('AAPL', 10)]"
   ]
  },
  {
   "cell_type": "markdown",
   "metadata": {},
   "source": [
    "We first get the statistics of this feature, including kurtosis and skewness:"
   ]
  },
  {
   "cell_type": "code",
   "execution_count": 18,
   "metadata": {},
   "outputs": [
    {
     "data": {
      "text/plain": [
       "count       7315.000000\n",
       "mean           0.011452\n",
       "std            0.087217\n",
       "var            0.007607\n",
       "kurtosis       6.202234\n",
       "skewness      -0.021948\n",
       "min           -0.628032\n",
       "25%           -0.036696\n",
       "50%            0.010766\n",
       "75%            0.057911\n",
       "max            0.836735\n",
       "Name: (AAPL, 10), dtype: float64"
      ]
     },
     "metadata": {},
     "output_type": "display_data"
    }
   ],
   "source": [
    "df_stats = feature.describe()\n",
    "\n",
    "df_stats.loc['var'] = feature.var()\n",
    "df_stats.loc['kurtosis'] = feature.kurtosis()\n",
    "df_stats.loc['skewness'] = feature.skew()\n",
    "df_stats = df_stats.reindex(['count', 'mean', 'std', 'var', 'kurtosis', 'skewness', 'min', '25%', '50%', '75%', 'max'])\n",
    "display(df_stats)"
   ]
  },
  {
   "cell_type": "code",
   "execution_count": 28,
   "metadata": {},
   "outputs": [
    {
     "data": {
      "image/png": "[encoded data removed]",
      "text/plain": [
       "<Figure size 432x288 with 1 Axes>"
      ]
     },
     "metadata": {
      "needs_background": "light"
     },
     "output_type": "display_data"
    }
   ],
   "source": [
    "# histogram of returns\n",
    "hist = feature.hist(bins=100)"
   ]
  },
  {
   "cell_type": "markdown",
   "metadata": {},
   "source": [
    "The kurtosis of this feature is 6.202, which is greater than the kurtosis of 3 for a univariate Gaussian, making it leptokurtic-it has as a result fatter tails, which is probably expected in backward return distributions.\n",
    "\n",
    "We can now generate a qq plot for this data"
   ]
  },
  {
   "cell_type": "code",
   "execution_count": null,
   "metadata": {},
   "outputs": [],
   "source": []
  },
  {
   "cell_type": "code",
   "execution_count": null,
   "metadata": {},
   "outputs": [],
   "source": [
    "Dataframe[‘feature1ExpandingNorm’]=(Dataframe[‘feature1’]-dataframe[‘feature1’].expanding.mean())/dataframe[‘feature1’].expanding().std()"
   ]
  }
 ],
 "metadata": {
  "kernelspec": {
   "display_name": "Python 3",
   "language": "python",
   "name": "python3"
  },
  "language_info": {
   "codemirror_mode": {
    "name": "ipython",
    "version": 3
   },
   "file_extension": ".py",
   "mimetype": "text/x-python",
   "name": "python",
   "nbconvert_exporter": "python",
   "pygments_lexer": "ipython3",
   "version": "3.8.3"
  }
 },
 "nbformat": 4,
 "nbformat_minor": 4
}
