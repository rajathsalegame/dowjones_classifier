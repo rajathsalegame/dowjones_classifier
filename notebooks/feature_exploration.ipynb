{
 "cells": [
  {
   "cell_type": "markdown",
   "metadata": {},
   "source": [
    "### Exploring Non-Gaussianity and Feature Normalization "
   ]
  },
  {
   "cell_type": "code",
   "execution_count": 1,
   "metadata": {},
   "outputs": [],
   "source": [
    "from data import Portfolio, Dataset\n",
    "import yfinance as yf\n",
    "import matplotlib.pyplot as plt\n",
    "import pandas as pd\n",
    "import numpy as np"
   ]
  },
  {
   "cell_type": "markdown",
   "metadata": {},
   "source": [
    "#### Instantiation of Portfolio/Dataset objects\n",
    "\n",
    "We again start by instantiating our Portfolio object. We are simply interested in a single feature, so we use our favorite technology stock, AAPL."
   ]
  },
  {
   "cell_type": "code",
   "execution_count": 2,
   "metadata": {},
   "outputs": [],
   "source": [
    "# define stock list of portfolio (just AAPL in this case)\n",
    "stock_list = ['AAPL']\n",
    "\n",
    "# define desired start and end dates\n",
    "start = '1990-01-01'\n",
    "end = '2020-01-01'\n",
    "\n",
    "# construct pandas dataframe of portfolio returns to instantiate Portfolio object \n",
    "# (in this case from yfinance)\n",
    "returns = yf.Ticker('^DJI').history(start=start,end=end)\n",
    "\n",
    "# construct Portfolio object implemented in data.py\n",
    "dji = Portfolio('^DJI', stock_list, returns, start=start,end=end)"
   ]
  },
  {
   "cell_type": "markdown",
   "metadata": {},
   "source": [
    "We next define our features using our stocks and periods, the target, the forward return horizon, target name, and task type (regression or classification)"
   ]
  },
  {
   "cell_type": "code",
   "execution_count": 3,
   "metadata": {},
   "outputs": [],
   "source": [
    "# define feature names, target name, periods\n",
    "feature_names = stock_list\n",
    "target_name = 'returns'\n",
    "periods = list(range(1,21)) + list(range(40,260,20))\n",
    "horizon = 5\n",
    "\n",
    "params = {'pfolio_obj': dji, \n",
    "          'data_type': 'Close', \n",
    "          'feature_names': stock_list, \n",
    "          'periods': periods, \n",
    "          'horizon': horizon, \n",
    "          'target_name': 'returns', \n",
    "          'task_type': 'classification'}\n",
    "\n",
    "# instantiate data object \n",
    "dji_data = Dataset(**params)"
   ]
  },
  {
   "cell_type": "markdown",
   "metadata": {},
   "source": [
    "For the purposes of our exploration, we only hone in on one feature: WLOG, let us select the 10-day \"backward returns\" for AAPL."
   ]
  },
  {
   "cell_type": "code",
   "execution_count": 4,
   "metadata": {},
   "outputs": [],
   "source": [
    "feature = pd.DataFrame(dji_data.df[('AAPL', 10)], index=dji_data.df.index)"
   ]
  },
  {
   "cell_type": "markdown",
   "metadata": {},
   "source": [
    "#### Summary Statistics\n",
    "We first get the statistics of this feature, including kurtosis and skewness:"
   ]
  },
  {
   "cell_type": "code",
   "execution_count": 5,
   "metadata": {},
   "outputs": [
    {
     "data": {
      "text/html": [
       "<div>\n",
       "<style scoped>\n",
       "    .dataframe tbody tr th:only-of-type {\n",
       "        vertical-align: middle;\n",
       "    }\n",
       "\n",
       "    .dataframe tbody tr th {\n",
       "        vertical-align: top;\n",
       "    }\n",
       "\n",
       "    .dataframe thead tr th {\n",
       "        text-align: left;\n",
       "    }\n",
       "</style>\n",
       "<table border=\"1\" class=\"dataframe\">\n",
       "  <thead>\n",
       "    <tr>\n",
       "      <th></th>\n",
       "      <th>AAPL</th>\n",
       "    </tr>\n",
       "    <tr>\n",
       "      <th></th>\n",
       "      <th>10</th>\n",
       "    </tr>\n",
       "  </thead>\n",
       "  <tbody>\n",
       "    <tr>\n",
       "      <th>count</th>\n",
       "      <td>7313.000000</td>\n",
       "    </tr>\n",
       "    <tr>\n",
       "      <th>mean</th>\n",
       "      <td>0.011437</td>\n",
       "    </tr>\n",
       "    <tr>\n",
       "      <th>std</th>\n",
       "      <td>0.087224</td>\n",
       "    </tr>\n",
       "    <tr>\n",
       "      <th>var</th>\n",
       "      <td>0.007608</td>\n",
       "    </tr>\n",
       "    <tr>\n",
       "      <th>kurtosis</th>\n",
       "      <td>6.201566</td>\n",
       "    </tr>\n",
       "    <tr>\n",
       "      <th>skewness</th>\n",
       "      <td>-0.021512</td>\n",
       "    </tr>\n",
       "    <tr>\n",
       "      <th>min</th>\n",
       "      <td>-0.628032</td>\n",
       "    </tr>\n",
       "    <tr>\n",
       "      <th>25%</th>\n",
       "      <td>-0.036705</td>\n",
       "    </tr>\n",
       "    <tr>\n",
       "      <th>50%</th>\n",
       "      <td>0.010759</td>\n",
       "    </tr>\n",
       "    <tr>\n",
       "      <th>75%</th>\n",
       "      <td>0.057884</td>\n",
       "    </tr>\n",
       "    <tr>\n",
       "      <th>max</th>\n",
       "      <td>0.836735</td>\n",
       "    </tr>\n",
       "  </tbody>\n",
       "</table>\n",
       "</div>"
      ],
      "text/plain": [
       "                 AAPL\n",
       "                   10\n",
       "count     7313.000000\n",
       "mean         0.011437\n",
       "std          0.087224\n",
       "var          0.007608\n",
       "kurtosis     6.201566\n",
       "skewness    -0.021512\n",
       "min         -0.628032\n",
       "25%         -0.036705\n",
       "50%          0.010759\n",
       "75%          0.057884\n",
       "max          0.836735"
      ]
     },
     "metadata": {},
     "output_type": "display_data"
    }
   ],
   "source": [
    "df_stats = feature.describe()\n",
    "\n",
    "df_stats.loc['var'] = feature.var()\n",
    "df_stats.loc['kurtosis'] = feature.kurtosis()\n",
    "df_stats.loc['skewness'] = feature.skew()\n",
    "df_stats = df_stats.reindex(['count', 'mean', 'std', 'var', 'kurtosis', 'skewness', 'min', '25%', '50%', '75%', 'max'])\n",
    "display(df_stats)"
   ]
  },
  {
   "cell_type": "code",
   "execution_count": 6,
   "metadata": {},
   "outputs": [
    {
     "data": {
      "image/png": "[encoded data removed]",
      "text/plain": [
       "<Figure size 432x288 with 1 Axes>"
      ]
     },
     "metadata": {
      "needs_background": "light"
     },
     "output_type": "display_data"
    }
   ],
   "source": [
    "# histogram of returns\n",
    "hist = feature.hist(bins=100)"
   ]
  },
  {
   "cell_type": "markdown",
   "metadata": {},
   "source": [
    "The kurtosis of this feature is 6.202, which is greater than the kurtosis of 3 for a univariate Gaussian, making it leptokurtic-it has as a result fatter tails, which is probably expected in backward return distributions.\n",
    "\n",
    "\n",
    "#### QQ Plotting:\n",
    "We can now generate a qq plot for this data in order to visually inspect the non-Gaussianity:"
   ]
  },
  {
   "cell_type": "code",
   "execution_count": 7,
   "metadata": {},
   "outputs": [
    {
     "data": {
      "image/png": "[encoded data removed]",
      "text/plain": [
       "<Figure size 432x288 with 1 Axes>"
      ]
     },
     "metadata": {
      "needs_background": "light"
     },
     "output_type": "display_data"
    }
   ],
   "source": [
    "import statsmodels.api as sm\n",
    "\n",
    "sm.qqplot(feature[('AAPL', 10)].values, line='45')\n",
    "plt.title('QQ Plot for Unnormalized Data')\n",
    "plt.show()"
   ]
  },
  {
   "cell_type": "markdown",
   "metadata": {},
   "source": [
    "The line is approximately horizontal, confirming the presence of heavy tails in our distribution.\n",
    "\n",
    "We can try exploring the effects of normalization on the qq plot of the dataset; specifically, we use expanding normalization, in which we use an expanding window that takes into account all times $t < t_0$ for a data point at $t_0$."
   ]
  },
  {
   "cell_type": "code",
   "execution_count": 8,
   "metadata": {},
   "outputs": [
    {
     "data": {
      "image/png": "[encoded data removed]",
      "text/plain": [
       "<Figure size 432x288 with 1 Axes>"
      ]
     },
     "metadata": {
      "needs_background": "light"
     },
     "output_type": "display_data"
    }
   ],
   "source": [
    "feature['expanding_norm'] = (feature[('AAPL', 10)] - feature[('AAPL', 10)].expanding().mean()) / feature[('AAPL', 10)].expanding().std()\n",
    "sm.qqplot(feature['expanding_norm'].values[1:], line='45')\n",
    "plt.title('QQ Plot for Normalized Data using Expanding Normalization')\n",
    "plt.show()"
   ]
  },
  {
   "cell_type": "markdown",
   "metadata": {},
   "source": [
    "After normalization, our qq plot appears more similar to the line y=x, with the dispersion at the tail ends still likely due to the heavy tails. By visual inspection, the data is more normal, but we can also quantify this:"
   ]
  },
  {
   "cell_type": "markdown",
   "metadata": {},
   "source": [
    "#### Kullback-Leibler Divergence\n",
    "\n",
    "We can also quantify non-Gaussianity by calculating the Kullback-Leibler divergence of the unnormalized and normalized data with respect to a normal distribution, which is an asymmetric measure of the distance between two probability distributions. It is calculated for continuous distributions as:\n",
    "\n",
    "$$\\text{KL}(P \\mid\\mid Q) = \\int_{x \\in X} p(x) \\log \\frac{p(x)}{q(x)} dx$$\n",
    "\n",
    "Here, $p$ is the empirical PDF of our data, and $q \\sim \\mathcal{N}(0,1)$.\n",
    "\n",
    "We can estimate the empirical PDF"
   ]
  },
  {
   "cell_type": "code",
   "execution_count": 43,
   "metadata": {},
   "outputs": [
    {
     "name": "stdout",
     "output_type": "stream",
     "text": [
      "KL divergence of unnormalized data is 1.3858939962992345\n",
      "KL divergence of normalized data is 0.07691292725979855\n"
     ]
    }
   ],
   "source": [
    "from scipy import stats\n",
    "\n",
    "unnorm_data = np.array(feature[('AAPL', 10)].values).reshape(-1, 1)\n",
    "norm_data = np.array(feature['expanding_norm'].values[1:]).reshape(-1,1)\n",
    "\n",
    "(unnorm_pdf, unnorm_edges) = np.histogram(data, bins=100, density=True)\n",
    "(norm_pdf, norm_edges) = np.histogram(norm_data, bins=100, density=True)\n",
    "\n",
    "unnorm_q_vals = [stats.norm.cdf(unnorm_edges[i+1]) - norm.cdf(unnorm_edges[i]) for i in range(len(unnorm_edges) - 1)]\n",
    "norm_q_vals = [stats.norm.cdf(norm_edges[i+1]) - norm.cdf(norm_edges[i]) for i in range(len(norm_edges) - 1)]\n",
    "\n",
    "\n",
    "print('KL divergence of unnormalized data is', stats.entropy(unnorm_pdf, qk=unnorm_q_vals))\n",
    "print('KL divergence of normalized data is', stats.entropy(norm_pdf[:-4], qk=norm_q_vals[:-4]))"
   ]
  },
  {
   "cell_type": "markdown",
   "metadata": {},
   "source": [
    "We clearly see that the normalized data has a much smaller KL divergence, indicating that it is closer to being distributed $\\mathcal{N}(0,1)$.\n",
    "\n",
    "#### Jarque-Bera Test\n",
    "\n"
   ]
  },
  {
   "cell_type": "code",
   "execution_count": 46,
   "metadata": {},
   "outputs": [
    {
     "data": {
      "text/plain": [
       "(11700.356951514672, 0.0)"
      ]
     },
     "execution_count": 46,
     "metadata": {},
     "output_type": "execute_result"
    }
   ],
   "source": [
    "stats.jarque_bera(unnorm_data)\n",
    "# stats.jarque_bera(norm_data)"
   ]
  },
  {
   "cell_type": "code",
   "execution_count": null,
   "metadata": {},
   "outputs": [],
   "source": []
  }
 ],
 "metadata": {
  "kernelspec": {
   "display_name": "Python 3",
   "language": "python",
   "name": "python3"
  },
  "language_info": {
   "codemirror_mode": {
    "name": "ipython",
    "version": 3
   },
   "file_extension": ".py",
   "mimetype": "text/x-python",
   "name": "python",
   "nbconvert_exporter": "python",
   "pygments_lexer": "ipython3",
   "version": "3.8.3"
  }
 },
 "nbformat": 4,
 "nbformat_minor": 4
}
