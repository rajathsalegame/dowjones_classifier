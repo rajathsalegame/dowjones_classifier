{
 "cells": [
  {
   "cell_type": "code",
   "execution_count": 1,
   "metadata": {},
   "outputs": [],
   "source": [
    "from data import Portfolio, Dataset\n",
    "from utils import *\n",
    "import yfinance as yf\n",
    "import matplotlib.pyplot as plt\n",
    "import matplotlib.gridspec as gridspec\n",
    "import pandas as pd"
   ]
  },
  {
   "cell_type": "code",
   "execution_count": 58,
   "metadata": {},
   "outputs": [],
   "source": [
    "# define stock list of portfolio (just AAPL in this case)\n",
    "stock_list = ['AAPL']\n",
    "\n",
    "# define desired start and end dates\n",
    "start = '1990-01-01'\n",
    "end = '2020-01-01'\n",
    "\n",
    "# construct pandas dataframe of portfolio returns to instantiate Portfolio object \n",
    "# (in this case from yfinance)\n",
    "returns = yf.Ticker('^DJI').history(start=start,end=end)\n",
    "\n",
    "# construct Portfolio object implemented in data.py\n",
    "apple = Portfolio('^DJI', stock_list, returns, start=start,end=end)"
   ]
  },
  {
   "cell_type": "code",
   "execution_count": 59,
   "metadata": {},
   "outputs": [
    {
     "data": {
      "image/png": "[encoded data removed]",
      "text/plain": [
       "<Figure size 432x288 with 1 Axes>"
      ]
     },
     "metadata": {
      "needs_background": "light"
     },
     "output_type": "display_data"
    }
   ],
   "source": [
    "ax1 = apple.price_plot(['returns'],'Close',start,end)\n",
    "plt.show()"
   ]
  },
  {
   "cell_type": "code",
   "execution_count": 60,
   "metadata": {},
   "outputs": [],
   "source": [
    "# define feature names, target name, periods\n",
    "feature_names = stock_list\n",
    "target_name = 'returns'\n",
    "periods = list(range(1,21)) + list(range(40,260,20))\n",
    "\n",
    "# instantiate data object \n",
    "apple_data = Dataset(apple, 'Close', feature_names, periods, target_name)"
   ]
  },
  {
   "cell_type": "code",
   "execution_count": 61,
   "metadata": {},
   "outputs": [
    {
     "name": "stdout",
     "output_type": "stream",
     "text": [
      "Number of features 31\n",
      "Number of classes 2\n",
      "Number of datapoints 7318\n"
     ]
    }
   ],
   "source": [
    "print(\"Number of features\", apple_data.n_features)\n",
    "print(\"Number of classes\", apple_data.n_classes)\n",
    "print(\"Number of datapoints\", apple_data.n_samples)"
   ]
  },
  {
   "cell_type": "code",
   "execution_count": 62,
   "metadata": {},
   "outputs": [
    {
     "name": "stdout",
     "output_type": "stream",
     "text": [
      "Number of negative movement days in ^DJI 3416\n",
      "Number of positive movement days in ^DJI 3902\n"
     ]
    }
   ],
   "source": [
    "print('Number of negative movement days in ^DJI', apple_data.target[apple_data.target == 0].shape[0])\n",
    "print('Number of positive movement days in ^DJI', apple_data.target[apple_data.target == 1].shape[0])"
   ]
  },
  {
   "cell_type": "markdown",
   "metadata": {},
   "source": [
    "We first display summary statistics of the data:"
   ]
  },
  {
   "cell_type": "code",
   "execution_count": 63,
   "metadata": {},
   "outputs": [
    {
     "data": {
      "text/html": [
       "<div>\n",
       "<style scoped>\n",
       "    .dataframe tbody tr th:only-of-type {\n",
       "        vertical-align: middle;\n",
       "    }\n",
       "\n",
       "    .dataframe tbody tr th {\n",
       "        vertical-align: top;\n",
       "    }\n",
       "\n",
       "    .dataframe thead th {\n",
       "        text-align: right;\n",
       "    }\n",
       "</style>\n",
       "<table border=\"1\" class=\"dataframe\">\n",
       "  <thead>\n",
       "    <tr style=\"text-align: right;\">\n",
       "      <th></th>\n",
       "      <th>(AAPL, 1)</th>\n",
       "      <th>(AAPL, 2)</th>\n",
       "      <th>(AAPL, 3)</th>\n",
       "      <th>(AAPL, 4)</th>\n",
       "      <th>(AAPL, 5)</th>\n",
       "      <th>(AAPL, 6)</th>\n",
       "      <th>(AAPL, 7)</th>\n",
       "      <th>(AAPL, 8)</th>\n",
       "      <th>(AAPL, 9)</th>\n",
       "      <th>(AAPL, 10)</th>\n",
       "      <th>...</th>\n",
       "      <th>(AAPL, 60)</th>\n",
       "      <th>(AAPL, 80)</th>\n",
       "      <th>(AAPL, 100)</th>\n",
       "      <th>(AAPL, 120)</th>\n",
       "      <th>(AAPL, 140)</th>\n",
       "      <th>(AAPL, 160)</th>\n",
       "      <th>(AAPL, 180)</th>\n",
       "      <th>(AAPL, 200)</th>\n",
       "      <th>(AAPL, 220)</th>\n",
       "      <th>(AAPL, 240)</th>\n",
       "    </tr>\n",
       "  </thead>\n",
       "  <tbody>\n",
       "    <tr>\n",
       "      <th>count</th>\n",
       "      <td>7318.000000</td>\n",
       "      <td>7318.000000</td>\n",
       "      <td>7318.000000</td>\n",
       "      <td>7318.000000</td>\n",
       "      <td>7318.000000</td>\n",
       "      <td>7318.000000</td>\n",
       "      <td>7318.000000</td>\n",
       "      <td>7318.000000</td>\n",
       "      <td>7318.000000</td>\n",
       "      <td>7318.000000</td>\n",
       "      <td>...</td>\n",
       "      <td>7318.000000</td>\n",
       "      <td>7318.000000</td>\n",
       "      <td>7318.000000</td>\n",
       "      <td>7318.000000</td>\n",
       "      <td>7318.000000</td>\n",
       "      <td>7318.000000</td>\n",
       "      <td>7318.000000</td>\n",
       "      <td>7318.000000</td>\n",
       "      <td>7318.000000</td>\n",
       "      <td>7318.000000</td>\n",
       "    </tr>\n",
       "    <tr>\n",
       "      <th>mean</th>\n",
       "      <td>0.001154</td>\n",
       "      <td>0.002292</td>\n",
       "      <td>0.003411</td>\n",
       "      <td>0.004524</td>\n",
       "      <td>0.005675</td>\n",
       "      <td>0.006827</td>\n",
       "      <td>0.007986</td>\n",
       "      <td>0.009149</td>\n",
       "      <td>0.010318</td>\n",
       "      <td>0.011471</td>\n",
       "      <td>...</td>\n",
       "      <td>0.073883</td>\n",
       "      <td>0.099019</td>\n",
       "      <td>0.123683</td>\n",
       "      <td>0.148218</td>\n",
       "      <td>0.173875</td>\n",
       "      <td>0.198956</td>\n",
       "      <td>0.224885</td>\n",
       "      <td>0.251418</td>\n",
       "      <td>0.280391</td>\n",
       "      <td>0.310418</td>\n",
       "    </tr>\n",
       "    <tr>\n",
       "      <th>std</th>\n",
       "      <td>0.027916</td>\n",
       "      <td>0.039183</td>\n",
       "      <td>0.047481</td>\n",
       "      <td>0.054504</td>\n",
       "      <td>0.061307</td>\n",
       "      <td>0.067325</td>\n",
       "      <td>0.072872</td>\n",
       "      <td>0.078025</td>\n",
       "      <td>0.082814</td>\n",
       "      <td>0.087204</td>\n",
       "      <td>...</td>\n",
       "      <td>0.230150</td>\n",
       "      <td>0.273480</td>\n",
       "      <td>0.314995</td>\n",
       "      <td>0.351899</td>\n",
       "      <td>0.388165</td>\n",
       "      <td>0.423372</td>\n",
       "      <td>0.458756</td>\n",
       "      <td>0.493562</td>\n",
       "      <td>0.531483</td>\n",
       "      <td>0.573164</td>\n",
       "    </tr>\n",
       "    <tr>\n",
       "      <th>var</th>\n",
       "      <td>0.000779</td>\n",
       "      <td>0.001535</td>\n",
       "      <td>0.002254</td>\n",
       "      <td>0.002971</td>\n",
       "      <td>0.003759</td>\n",
       "      <td>0.004533</td>\n",
       "      <td>0.005310</td>\n",
       "      <td>0.006088</td>\n",
       "      <td>0.006858</td>\n",
       "      <td>0.007605</td>\n",
       "      <td>...</td>\n",
       "      <td>0.052969</td>\n",
       "      <td>0.074791</td>\n",
       "      <td>0.099222</td>\n",
       "      <td>0.123833</td>\n",
       "      <td>0.150672</td>\n",
       "      <td>0.179244</td>\n",
       "      <td>0.210457</td>\n",
       "      <td>0.243603</td>\n",
       "      <td>0.282474</td>\n",
       "      <td>0.328516</td>\n",
       "    </tr>\n",
       "    <tr>\n",
       "      <th>kurtosis</th>\n",
       "      <td>24.308857</td>\n",
       "      <td>15.408718</td>\n",
       "      <td>12.211078</td>\n",
       "      <td>10.039517</td>\n",
       "      <td>9.161903</td>\n",
       "      <td>8.153538</td>\n",
       "      <td>7.666424</td>\n",
       "      <td>7.141898</td>\n",
       "      <td>6.794252</td>\n",
       "      <td>6.203791</td>\n",
       "      <td>...</td>\n",
       "      <td>1.071684</td>\n",
       "      <td>1.138089</td>\n",
       "      <td>1.372185</td>\n",
       "      <td>1.595656</td>\n",
       "      <td>1.600559</td>\n",
       "      <td>2.037434</td>\n",
       "      <td>1.871220</td>\n",
       "      <td>1.693828</td>\n",
       "      <td>1.523387</td>\n",
       "      <td>1.697021</td>\n",
       "    </tr>\n",
       "    <tr>\n",
       "      <th>skewness</th>\n",
       "      <td>-0.423776</td>\n",
       "      <td>-0.108108</td>\n",
       "      <td>-0.140592</td>\n",
       "      <td>-0.106306</td>\n",
       "      <td>-0.050376</td>\n",
       "      <td>-0.040497</td>\n",
       "      <td>-0.028652</td>\n",
       "      <td>-0.017691</td>\n",
       "      <td>-0.020508</td>\n",
       "      <td>-0.022545</td>\n",
       "      <td>...</td>\n",
       "      <td>0.087793</td>\n",
       "      <td>0.294262</td>\n",
       "      <td>0.529695</td>\n",
       "      <td>0.661590</td>\n",
       "      <td>0.724339</td>\n",
       "      <td>0.857841</td>\n",
       "      <td>0.914924</td>\n",
       "      <td>0.931700</td>\n",
       "      <td>0.927659</td>\n",
       "      <td>0.979758</td>\n",
       "    </tr>\n",
       "    <tr>\n",
       "      <th>min</th>\n",
       "      <td>-0.519637</td>\n",
       "      <td>-0.546828</td>\n",
       "      <td>-0.583082</td>\n",
       "      <td>-0.558912</td>\n",
       "      <td>-0.589124</td>\n",
       "      <td>-0.586103</td>\n",
       "      <td>-0.595166</td>\n",
       "      <td>-0.610272</td>\n",
       "      <td>-0.634441</td>\n",
       "      <td>-0.628032</td>\n",
       "      <td>...</td>\n",
       "      <td>-0.763926</td>\n",
       "      <td>-0.765306</td>\n",
       "      <td>-0.753463</td>\n",
       "      <td>-0.747253</td>\n",
       "      <td>-0.723112</td>\n",
       "      <td>-0.773438</td>\n",
       "      <td>-0.800448</td>\n",
       "      <td>-0.780303</td>\n",
       "      <td>-0.753541</td>\n",
       "      <td>-0.737892</td>\n",
       "    </tr>\n",
       "    <tr>\n",
       "      <th>25%</th>\n",
       "      <td>-0.012496</td>\n",
       "      <td>-0.017368</td>\n",
       "      <td>-0.020718</td>\n",
       "      <td>-0.023810</td>\n",
       "      <td>-0.026299</td>\n",
       "      <td>-0.029069</td>\n",
       "      <td>-0.032243</td>\n",
       "      <td>-0.034247</td>\n",
       "      <td>-0.035714</td>\n",
       "      <td>-0.036662</td>\n",
       "      <td>...</td>\n",
       "      <td>-0.056973</td>\n",
       "      <td>-0.066963</td>\n",
       "      <td>-0.071347</td>\n",
       "      <td>-0.076224</td>\n",
       "      <td>-0.076923</td>\n",
       "      <td>-0.075958</td>\n",
       "      <td>-0.075269</td>\n",
       "      <td>-0.085467</td>\n",
       "      <td>-0.091954</td>\n",
       "      <td>-0.110212</td>\n",
       "    </tr>\n",
       "    <tr>\n",
       "      <th>50%</th>\n",
       "      <td>0.000000</td>\n",
       "      <td>0.000242</td>\n",
       "      <td>0.002065</td>\n",
       "      <td>0.003675</td>\n",
       "      <td>0.006038</td>\n",
       "      <td>0.006617</td>\n",
       "      <td>0.007943</td>\n",
       "      <td>0.008670</td>\n",
       "      <td>0.009991</td>\n",
       "      <td>0.010797</td>\n",
       "      <td>...</td>\n",
       "      <td>0.074291</td>\n",
       "      <td>0.096515</td>\n",
       "      <td>0.117201</td>\n",
       "      <td>0.148913</td>\n",
       "      <td>0.166427</td>\n",
       "      <td>0.198529</td>\n",
       "      <td>0.210526</td>\n",
       "      <td>0.232128</td>\n",
       "      <td>0.258355</td>\n",
       "      <td>0.280735</td>\n",
       "    </tr>\n",
       "    <tr>\n",
       "      <th>75%</th>\n",
       "      <td>0.014286</td>\n",
       "      <td>0.021169</td>\n",
       "      <td>0.026538</td>\n",
       "      <td>0.031831</td>\n",
       "      <td>0.036585</td>\n",
       "      <td>0.041919</td>\n",
       "      <td>0.046550</td>\n",
       "      <td>0.052174</td>\n",
       "      <td>0.055021</td>\n",
       "      <td>0.058018</td>\n",
       "      <td>...</td>\n",
       "      <td>0.204282</td>\n",
       "      <td>0.256119</td>\n",
       "      <td>0.286050</td>\n",
       "      <td>0.316820</td>\n",
       "      <td>0.351233</td>\n",
       "      <td>0.395502</td>\n",
       "      <td>0.438962</td>\n",
       "      <td>0.482378</td>\n",
       "      <td>0.531396</td>\n",
       "      <td>0.582659</td>\n",
       "    </tr>\n",
       "    <tr>\n",
       "      <th>max</th>\n",
       "      <td>0.327869</td>\n",
       "      <td>0.475410</td>\n",
       "      <td>0.475410</td>\n",
       "      <td>0.525424</td>\n",
       "      <td>0.666667</td>\n",
       "      <td>0.666667</td>\n",
       "      <td>0.764706</td>\n",
       "      <td>0.764706</td>\n",
       "      <td>0.800000</td>\n",
       "      <td>0.836735</td>\n",
       "      <td>...</td>\n",
       "      <td>1.121951</td>\n",
       "      <td>1.397260</td>\n",
       "      <td>1.547945</td>\n",
       "      <td>1.753425</td>\n",
       "      <td>1.989130</td>\n",
       "      <td>2.433962</td>\n",
       "      <td>2.568627</td>\n",
       "      <td>2.459627</td>\n",
       "      <td>2.838095</td>\n",
       "      <td>3.084112</td>\n",
       "    </tr>\n",
       "  </tbody>\n",
       "</table>\n",
       "<p>11 rows × 31 columns</p>\n",
       "</div>"
      ],
      "text/plain": [
       "            (AAPL, 1)    (AAPL, 2)    (AAPL, 3)    (AAPL, 4)    (AAPL, 5)  \\\n",
       "count     7318.000000  7318.000000  7318.000000  7318.000000  7318.000000   \n",
       "mean         0.001154     0.002292     0.003411     0.004524     0.005675   \n",
       "std          0.027916     0.039183     0.047481     0.054504     0.061307   \n",
       "var          0.000779     0.001535     0.002254     0.002971     0.003759   \n",
       "kurtosis    24.308857    15.408718    12.211078    10.039517     9.161903   \n",
       "skewness    -0.423776    -0.108108    -0.140592    -0.106306    -0.050376   \n",
       "min         -0.519637    -0.546828    -0.583082    -0.558912    -0.589124   \n",
       "25%         -0.012496    -0.017368    -0.020718    -0.023810    -0.026299   \n",
       "50%          0.000000     0.000242     0.002065     0.003675     0.006038   \n",
       "75%          0.014286     0.021169     0.026538     0.031831     0.036585   \n",
       "max          0.327869     0.475410     0.475410     0.525424     0.666667   \n",
       "\n",
       "            (AAPL, 6)    (AAPL, 7)    (AAPL, 8)    (AAPL, 9)   (AAPL, 10)  \\\n",
       "count     7318.000000  7318.000000  7318.000000  7318.000000  7318.000000   \n",
       "mean         0.006827     0.007986     0.009149     0.010318     0.011471   \n",
       "std          0.067325     0.072872     0.078025     0.082814     0.087204   \n",
       "var          0.004533     0.005310     0.006088     0.006858     0.007605   \n",
       "kurtosis     8.153538     7.666424     7.141898     6.794252     6.203791   \n",
       "skewness    -0.040497    -0.028652    -0.017691    -0.020508    -0.022545   \n",
       "min         -0.586103    -0.595166    -0.610272    -0.634441    -0.628032   \n",
       "25%         -0.029069    -0.032243    -0.034247    -0.035714    -0.036662   \n",
       "50%          0.006617     0.007943     0.008670     0.009991     0.010797   \n",
       "75%          0.041919     0.046550     0.052174     0.055021     0.058018   \n",
       "max          0.666667     0.764706     0.764706     0.800000     0.836735   \n",
       "\n",
       "          ...   (AAPL, 60)   (AAPL, 80)  (AAPL, 100)  (AAPL, 120)  \\\n",
       "count     ...  7318.000000  7318.000000  7318.000000  7318.000000   \n",
       "mean      ...     0.073883     0.099019     0.123683     0.148218   \n",
       "std       ...     0.230150     0.273480     0.314995     0.351899   \n",
       "var       ...     0.052969     0.074791     0.099222     0.123833   \n",
       "kurtosis  ...     1.071684     1.138089     1.372185     1.595656   \n",
       "skewness  ...     0.087793     0.294262     0.529695     0.661590   \n",
       "min       ...    -0.763926    -0.765306    -0.753463    -0.747253   \n",
       "25%       ...    -0.056973    -0.066963    -0.071347    -0.076224   \n",
       "50%       ...     0.074291     0.096515     0.117201     0.148913   \n",
       "75%       ...     0.204282     0.256119     0.286050     0.316820   \n",
       "max       ...     1.121951     1.397260     1.547945     1.753425   \n",
       "\n",
       "          (AAPL, 140)  (AAPL, 160)  (AAPL, 180)  (AAPL, 200)  (AAPL, 220)  \\\n",
       "count     7318.000000  7318.000000  7318.000000  7318.000000  7318.000000   \n",
       "mean         0.173875     0.198956     0.224885     0.251418     0.280391   \n",
       "std          0.388165     0.423372     0.458756     0.493562     0.531483   \n",
       "var          0.150672     0.179244     0.210457     0.243603     0.282474   \n",
       "kurtosis     1.600559     2.037434     1.871220     1.693828     1.523387   \n",
       "skewness     0.724339     0.857841     0.914924     0.931700     0.927659   \n",
       "min         -0.723112    -0.773438    -0.800448    -0.780303    -0.753541   \n",
       "25%         -0.076923    -0.075958    -0.075269    -0.085467    -0.091954   \n",
       "50%          0.166427     0.198529     0.210526     0.232128     0.258355   \n",
       "75%          0.351233     0.395502     0.438962     0.482378     0.531396   \n",
       "max          1.989130     2.433962     2.568627     2.459627     2.838095   \n",
       "\n",
       "          (AAPL, 240)  \n",
       "count     7318.000000  \n",
       "mean         0.310418  \n",
       "std          0.573164  \n",
       "var          0.328516  \n",
       "kurtosis     1.697021  \n",
       "skewness     0.979758  \n",
       "min         -0.737892  \n",
       "25%         -0.110212  \n",
       "50%          0.280735  \n",
       "75%          0.582659  \n",
       "max          3.084112  \n",
       "\n",
       "[11 rows x 31 columns]"
      ]
     },
     "metadata": {},
     "output_type": "display_data"
    }
   ],
   "source": [
    "df_stat = apple_data.statistics(features=['AAPL'],periods=periods)\n",
    "display(df_stat)"
   ]
  },
  {
   "cell_type": "code",
   "execution_count": 64,
   "metadata": {},
   "outputs": [
    {
     "data": {
      "text/plain": [
       "Date\n",
       "1990-12-13    0\n",
       "1990-12-14    0\n",
       "1990-12-17    0\n",
       "1990-12-18    1\n",
       "1990-12-19    1\n",
       "Name: returns, dtype: int64"
      ]
     },
     "execution_count": 64,
     "metadata": {},
     "output_type": "execute_result"
    }
   ],
   "source": [
    "target = apple_data.target\n",
    "target.head()"
   ]
  },
  {
   "cell_type": "markdown",
   "metadata": {},
   "source": [
    "We first GridSearch on the data until 1996 using 5-fold cross validation:"
   ]
  },
  {
   "cell_type": "code",
   "execution_count": 65,
   "metadata": {},
   "outputs": [],
   "source": [
    "from sklearn.model_selection import GridSearchCV\n",
    "\n",
    "def algorithm_pipeline(X_train_data, y_train_data, model, param_grid, cv=10, scoring_fit='roc_auc'):\n",
    "    \n",
    "    gs = GridSearchCV(estimator=model,param_grid=param_grid, cv=cv, n_jobs=-1, scoring=scoring_fit,verbose=2)\n",
    "    \n",
    "    fitted_model = gs.fit(X_train_data, y_train_data)\n",
    "    \n",
    "    return fitted_model"
   ]
  },
  {
   "cell_type": "code",
   "execution_count": 85,
   "metadata": {},
   "outputs": [
    {
     "name": "stdout",
     "output_type": "stream",
     "text": [
      "(1276, 31)\n"
     ]
    }
   ],
   "source": [
    "print(X_1996.shape)"
   ]
  },
  {
   "cell_type": "code",
   "execution_count": 66,
   "metadata": {},
   "outputs": [],
   "source": [
    "from sklearn.model_selection import train_test_split\n",
    "\n",
    "X_1996 = apple_data.data.loc['1980-01-01':'1996-01-01'].to_numpy()\n",
    "y_1996 = apple_data.target.loc['1980-01-01':'1996-01-01'].to_numpy()"
   ]
  },
  {
   "cell_type": "code",
   "execution_count": 72,
   "metadata": {},
   "outputs": [
    {
     "name": "stdout",
     "output_type": "stream",
     "text": [
      "Fitting 5 folds for each of 300 candidates, totalling 1500 fits\n"
     ]
    },
    {
     "name": "stderr",
     "output_type": "stream",
     "text": [
      "[Parallel(n_jobs=-1)]: Using backend LokyBackend with 16 concurrent workers.\n",
      "[Parallel(n_jobs=-1)]: Done   9 tasks      | elapsed:    2.3s\n",
      "[Parallel(n_jobs=-1)]: Done 130 tasks      | elapsed:    8.1s\n",
      "[Parallel(n_jobs=-1)]: Done 333 tasks      | elapsed:   18.4s\n",
      "[Parallel(n_jobs=-1)]: Done 616 tasks      | elapsed:   37.1s\n",
      "[Parallel(n_jobs=-1)]: Done 981 tasks      | elapsed:  1.2min\n",
      "[Parallel(n_jobs=-1)]: Done 1426 tasks      | elapsed:  2.2min\n",
      "[Parallel(n_jobs=-1)]: Done 1500 out of 1500 | elapsed:  2.3min finished\n"
     ]
    }
   ],
   "source": [
    "import xgboost as xgb\n",
    "\n",
    "params = {'learning_rate': [0.01, 0.05, 0.1], 'max_depth': [6, 10, 20, 50],'min_child_weight': [1, 2, 5, 11, 20],'colsample_bytree': [0.3, 0.4, 0.6, 0.7, 0.8]}\n",
    "\n",
    "xgb_model = xgb.XGBClassifier(n_estimators=200, objective='binary:logistic')\n",
    "\n",
    "model = algorithm_pipeline(X_1996, y_1996, xgb_model, params, cv=5)"
   ]
  },
  {
   "cell_type": "code",
   "execution_count": 73,
   "metadata": {},
   "outputs": [
    {
     "name": "stdout",
     "output_type": "stream",
     "text": [
      "0.5150270520402235\n",
      "{'colsample_bytree': 0.8, 'learning_rate': 0.01, 'max_depth': 6, 'min_child_weight': 20}\n"
     ]
    }
   ],
   "source": [
    "print(model.best_score_)\n",
    "print(model.best_params_)"
   ]
  },
  {
   "cell_type": "markdown",
   "metadata": {},
   "source": [
    "We have now gridsearched and have our optimal parameters. Unfortunately, it doesn't seem like we do much better than random. We now train the data iteratively year by year until 2014, adding in the data from the year, and computing the feature importances at each step."
   ]
  },
  {
   "cell_type": "code",
   "execution_count": 94,
   "metadata": {},
   "outputs": [],
   "source": [
    "params = model.best_params_\n",
    "\n",
    "xgb_model = xgb.XGBClassifier(**params)\n",
    "\n",
    "years = list(range(1997,2014))\n",
    "\n",
    "# initialize data\n",
    "X = apple_data.data.loc['1980-01-01':'1996-01-01'].to_numpy()\n",
    "y = apple_data.target.loc['1980-01-01':'1996-01-01'].to_numpy()\n",
    "\n",
    "for year in years:\n",
    "    year_X, year_y = apple_data.data.loc[f'{year}-01-01':f'{year}-12-31'].to_numpy(), apple_data.target.loc[f'{year}-01-01':f'{year}-12-31'].to_numpy()\n",
    "    \n",
    "    X_train, y_train = np.concatenate((X, year_X), axis=0), np.concatenate((y, year_y), axis=0)\n",
    "    \n",
    "    X_test, y_test = apple_data.data.loc[f'{year+1}-01-01':f'{year+1}-12-31'].to_numpy(), apple_data.target.loc[f'{year+1}-01-01':f'{year+1}-12-31'].to_numpy()\n",
    "    \n",
    "    xgb_model.fit(X_train, y_train)\n",
    "    xgb_model.save_model(f'model_{year}.model')\n",
    "    # feature importances\n",
    "    xgb_model.get_booster().get_score(importance_type='weight')\n",
    "    # save feature importance as a pandas dataframe\n",
    "    \n",
    "    # check predictions and get ROC_AUC\n",
    "    xgb_model.predict(X_test, y_test)\n",
    "       "
   ]
  },
  {
   "cell_type": "code",
   "execution_count": 86,
   "metadata": {},
   "outputs": [
    {
     "name": "stdout",
     "output_type": "stream",
     "text": [
      "[[1 2 3]\n",
      " [2 3 4]\n",
      " [2 3 4]]\n"
     ]
    }
   ],
   "source": [
    "arr = np.array([1,2,3])\n",
    "arr2 = np.array([[2,3,4],[2,3,4]])\n",
    "\n",
    "out = np.vstack((arr, arr2))\n",
    "print(out)"
   ]
  },
  {
   "cell_type": "code",
   "execution_count": null,
   "metadata": {},
   "outputs": [],
   "source": []
  }
 ],
 "metadata": {
  "kernelspec": {
   "display_name": "Python 3",
   "language": "python",
   "name": "python3"
  },
  "language_info": {
   "codemirror_mode": {
    "name": "ipython",
    "version": 3
   },
   "file_extension": ".py",
   "mimetype": "text/x-python",
   "name": "python",
   "nbconvert_exporter": "python",
   "pygments_lexer": "ipython3",
   "version": "3.8.3"
  }
 },
 "nbformat": 4,
 "nbformat_minor": 4
}
